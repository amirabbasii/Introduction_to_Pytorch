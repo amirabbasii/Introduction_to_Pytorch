{
  "nbformat": 4,
  "nbformat_minor": 0,
  "metadata": {
    "colab": {
      "name": "CNN.ipynb",
      "provenance": [],
      "collapsed_sections": []
    },
    "kernelspec": {
      "name": "python3",
      "display_name": "Python 3"
    },
    "accelerator": "GPU"
  },
  "cells": [
    {
      "cell_type": "code",
      "metadata": {
        "id": "JeZitrmxfMc_"
      },
      "source": [
        "import torch\n",
        "from torch import optim\n",
        "from torch.nn import Sequential,Linear,Sigmoid,BCELoss,MSELoss,Tanh,Conv2d,MaxPool2d,ReLU,Flatten\n",
        "import  numpy as np\n",
        "from torchsummary import summary\n",
        "import pandas as pd"
      ],
      "execution_count": null,
      "outputs": []
    },
    {
      "cell_type": "markdown",
      "metadata": {
        "id": "mosw73lzVZqg"
      },
      "source": [
        "downloading the data"
      ]
    },
    {
      "cell_type": "code",
      "metadata": {
        "id": "DDtxwuGFpBeK",
        "colab": {
          "base_uri": "https://localhost:8080/"
        },
        "outputId": "1ebb49c7-aa5f-4df6-fc36-20942d7846ab"
      },
      "source": [
        "!wget https://raw.githubusercontent.com/mlampros/DataSets/master/mnist.zip"
      ],
      "execution_count": null,
      "outputs": [
        {
          "output_type": "stream",
          "text": [
            "--2020-11-15 11:03:01--  https://raw.githubusercontent.com/mlampros/DataSets/master/mnist.zip\n",
            "Resolving raw.githubusercontent.com (raw.githubusercontent.com)... 151.101.0.133, 151.101.64.133, 151.101.128.133, ...\n",
            "Connecting to raw.githubusercontent.com (raw.githubusercontent.com)|151.101.0.133|:443... connected.\n",
            "HTTP request sent, awaiting response... 200 OK\n",
            "Length: 15291135 (15M) [application/zip]\n",
            "Saving to: ‘mnist.zip’\n",
            "\n",
            "mnist.zip           100%[===================>]  14.58M  71.8MB/s    in 0.2s    \n",
            "\n",
            "2020-11-15 11:03:01 (71.8 MB/s) - ‘mnist.zip’ saved [15291135/15291135]\n",
            "\n"
          ],
          "name": "stdout"
        }
      ]
    },
    {
      "cell_type": "code",
      "metadata": {
        "id": "c9NAeuTGeLKG",
        "colab": {
          "base_uri": "https://localhost:8080/"
        },
        "outputId": "1b037f62-ef43-4e9b-b6f0-e4d30c24a236"
      },
      "source": [
        "!unzip -x mnist.zip"
      ],
      "execution_count": null,
      "outputs": [
        {
          "output_type": "stream",
          "text": [
            "Archive:  mnist.zip\n",
            "  inflating: mnist.csv               \n"
          ],
          "name": "stdout"
        }
      ]
    },
    {
      "cell_type": "markdown",
      "metadata": {
        "id": "_2aWfscqVy39"
      },
      "source": [
        "reading the data from file"
      ]
    },
    {
      "cell_type": "code",
      "metadata": {
        "id": "eCuwUICseRoi"
      },
      "source": [
        "\n",
        "data=pd.read_csv(\"mnist.csv\")\n",
        "data=np.array(data)\n",
        "x=data[:,:-1]\n",
        "y=data[:,-1]\n",
        "x=x.reshape((len(x),1,28,28))\n",
        "x=np.array(x)"
      ],
      "execution_count": null,
      "outputs": []
    },
    {
      "cell_type": "markdown",
      "metadata": {
        "id": "dTdVskSiV2Bp"
      },
      "source": [
        "dividing the data into train,validation, and test"
      ]
    },
    {
      "cell_type": "code",
      "metadata": {
        "id": "vYsAdz_qMliR"
      },
      "source": [
        "x_train=[]\n",
        "y_train=[]\n",
        "x_val=[]\n",
        "y_val=[]\n",
        "x_test=[]\n",
        "y_test=[]\n",
        "for number in range(10):\n",
        "  tmp=[]\n",
        "  for i in range(len(y)):\n",
        "    if y[i]==number:\n",
        "      tmp.append(x[i])\n",
        "  \n",
        "  ix_train=int(len(tmp)*0.6)\n",
        "  ix_val=int(len(tmp)*0.2)\n",
        "  ###images\n",
        "  x_train+=tmp[:ix_train]\n",
        "  x_val+=tmp[ix_train:ix_train+ix_val]\n",
        "  x_test+=tmp[ix_train+ix_val:]\n",
        "\n",
        "  ###lables\n",
        "\n",
        "  one_hot=np.zeros((10,))\n",
        "  one_hot[number]=1\n",
        "  for j in range(ix_train):##train\n",
        "    y_train.append(one_hot)\n",
        "\n",
        "  for j in range(ix_val):##val\n",
        "    y_val.append(one_hot)\n",
        "\n",
        "  for j in range(len(tmp)-ix_train-ix_val):##test\n",
        "    y_test.append(one_hot)\n",
        "\n",
        "x_train=torch.tensor(x_train).float().to(\"cuda\")\n",
        "y_train=torch.tensor(y_train).float().to(\"cuda\")\n",
        "x_test=torch.tensor(x_test).float().to(\"cuda\")\n",
        "y_test=torch.tensor(y_test).float().to(\"cuda\")\n",
        "x_val=torch.tensor(x_val).float().to(\"cuda\")\n",
        "y_val=torch.tensor(y_val).float().to(\"cuda\")\n",
        "\n"
      ],
      "execution_count": null,
      "outputs": []
    },
    {
      "cell_type": "markdown",
      "metadata": {
        "id": "_W2AbjG3WNV6"
      },
      "source": [
        "defining the model"
      ]
    },
    {
      "cell_type": "code",
      "metadata": {
        "id": "UVkP84sDgExW",
        "colab": {
          "base_uri": "https://localhost:8080/"
        },
        "outputId": "1fbb1f6e-52b4-43d6-daa0-0cc3e514f516"
      },
      "source": [
        "model=Sequential(Conv2d(in_channels=1,out_channels=32,kernel_size=(3,3),stride=1,padding=1),ReLU(),MaxPool2d(kernel_size=(2,2),stride=2),\n",
        "                Conv2d(32,64,(3,3),stride=1,padding=1),ReLU(),MaxPool2d(kernel_size=(2,2),stride=2),\n",
        "                Flatten(),\n",
        "                Linear(3136,128),\n",
        "                Linear(128,10),Sigmoid()\n",
        "\n",
        "                 \n",
        "\n",
        ")\n",
        "model.to(\"cuda\")\n",
        "\n",
        "summary(model,input_size=(1,28,28))"
      ],
      "execution_count": null,
      "outputs": [
        {
          "output_type": "stream",
          "text": [
            "----------------------------------------------------------------\n",
            "        Layer (type)               Output Shape         Param #\n",
            "================================================================\n",
            "            Conv2d-1           [-1, 32, 28, 28]             320\n",
            "              ReLU-2           [-1, 32, 28, 28]               0\n",
            "         MaxPool2d-3           [-1, 32, 14, 14]               0\n",
            "            Conv2d-4           [-1, 64, 14, 14]          18,496\n",
            "              ReLU-5           [-1, 64, 14, 14]               0\n",
            "         MaxPool2d-6             [-1, 64, 7, 7]               0\n",
            "           Flatten-7                 [-1, 3136]               0\n",
            "            Linear-8                  [-1, 128]         401,536\n",
            "            Linear-9                   [-1, 10]           1,290\n",
            "          Sigmoid-10                   [-1, 10]               0\n",
            "================================================================\n",
            "Total params: 421,642\n",
            "Trainable params: 421,642\n",
            "Non-trainable params: 0\n",
            "----------------------------------------------------------------\n",
            "Input size (MB): 0.00\n",
            "Forward/backward pass size (MB): 0.67\n",
            "Params size (MB): 1.61\n",
            "Estimated Total Size (MB): 2.28\n",
            "----------------------------------------------------------------\n"
          ],
          "name": "stdout"
        }
      ]
    },
    {
      "cell_type": "markdown",
      "metadata": {
        "id": "-PLXDVT4WQUE"
      },
      "source": [
        "defining the optimizer"
      ]
    },
    {
      "cell_type": "code",
      "metadata": {
        "id": "AlV_kZu3tdnj"
      },
      "source": [
        "optimizer = optim.Adam(model.parameters())"
      ],
      "execution_count": null,
      "outputs": []
    },
    {
      "cell_type": "markdown",
      "metadata": {
        "id": "gkTWr44rWS_P"
      },
      "source": [
        "training the model"
      ]
    },
    {
      "cell_type": "code",
      "metadata": {
        "id": "ons_IguPgcv4",
        "colab": {
          "base_uri": "https://localhost:8080/"
        },
        "outputId": "d4e49a0a-f558-41a7-af88-370ea130f1bb"
      },
      "source": [
        "mse=BCELoss()\n",
        "rn=np.arange(len(x_train))\n",
        "dataloader=torch.utils.data.DataLoader(rn, 512, True)\n",
        "maxi=-1\n",
        "for epoch in range(20):\n",
        "  losses=[]\n",
        "  accuracy_train=[]\n",
        "  get_batch=iter(dataloader)\n",
        "  for index in get_batch:\n",
        "    batch_x=x_train[index]\n",
        "    batch_y=y_train[index]\n",
        "    pred=model(batch_x)\n",
        "    #####update########\n",
        "    model.train()##switch to trian\n",
        "    optimizer.zero_grad()\n",
        "    loss=mse(pred,batch_y)# loss\n",
        "    loss.backward() #gradient \n",
        "    optimizer.step() #\n",
        "    losses.append(loss.item())\n",
        "\n",
        "    ####computing accuracy of batch\n",
        "    pred=pred.argmax(axis=-1)\n",
        "    target=batch_y.argmax(axis=-1)\n",
        "    correct=torch.sum(pred==target).item()\n",
        "    accuracy=correct/len(batch_y)\n",
        "    accuracy_train.append(accuracy)\n",
        "  \n",
        "  \n",
        "\n",
        "  ####validation \n",
        "  model.eval()###swtich to evaluation\n",
        "  pred=model(x_val)\n",
        "  loss_val=mse(pred,y_val).item()\n",
        "  pred=pred.argmax(axis=-1)\n",
        "  target=y_val.argmax(axis=-1)\n",
        "  \n",
        "  ###computing accuracy of validation set\n",
        "  correct=torch.sum(pred==target).item()\n",
        "  accuracy_val=correct/len(y_val)\n",
        "  if accuracy_val>maxi:\n",
        "    maxi=accuracy_val\n",
        "    torch.save(model,\"model.pth\")\n",
        "  \n",
        "\n",
        "  print(\"epoch\",epoch,\"     loss:\",np.mean(losses), \"   accuracy_train:\",np.mean(accuracy_train),\"    loss_val:\",loss_val,\"    val_accuracy:\",accuracy_val)"
      ],
      "execution_count": null,
      "outputs": [
        {
          "output_type": "stream",
          "text": [
            "epoch 0      loss: 8.377377889242517    accuracy_train: 0.10124589266155533     loss_val: 8.29827880859375     val_accuracy: 0.10017147756501858\n",
            "epoch 1      loss: 5.117485220891884    accuracy_train: 0.2768132187842278     loss_val: 0.11796732991933823     val_accuracy: 0.8203058016576165\n",
            "epoch 2      loss: 0.060477744799152196    accuracy_train: 0.9196630271084337     loss_val: 0.04189957678318024     val_accuracy: 0.9486281794798513\n",
            "epoch 3      loss: 0.03133099948067263    accuracy_train: 0.9623600937842278     loss_val: 0.029876668006181717     val_accuracy: 0.9646327522149185\n",
            "epoch 4      loss: 0.02535852614835084    accuracy_train: 0.9714796686746988     loss_val: 0.025133855640888214     val_accuracy: 0.9703486710488711\n",
            "epoch 5      loss: 0.020139989027955447    accuracy_train: 0.9773390436746988     loss_val: 0.02223431132733822     val_accuracy: 0.9755644469848528\n",
            "epoch 6      loss: 0.017403069771377438    accuracy_train: 0.9817159262048193     loss_val: 0.0202876478433609     val_accuracy: 0.9772077736496142\n",
            "epoch 7      loss: 0.01507081147928509    accuracy_train: 0.9838573042168675     loss_val: 0.021631933748722076     val_accuracy: 0.9762789368390968\n",
            "epoch 8      loss: 0.013240722257711262    accuracy_train: 0.9863987198795181     loss_val: 0.01853335276246071     val_accuracy: 0.9795655901686197\n",
            "epoch 9      loss: 0.01201065901403192    accuracy_train: 0.9883518448795181     loss_val: 0.017279457300901413     val_accuracy: 0.9812803658188054\n",
            "epoch 10      loss: 0.011044016092488295    accuracy_train: 0.9897402108433735     loss_val: 0.017835868522524834     val_accuracy: 0.9807087739354101\n",
            "epoch 11      loss: 0.011271067064659423    accuracy_train: 0.9894214642661555     loss_val: 0.03518606722354889     val_accuracy: 0.9632752214918548\n",
            "epoch 12      loss: 0.014736544004226306    accuracy_train: 0.9849739868565169     loss_val: 0.020656906068325043     val_accuracy: 0.981208916833381\n",
            "epoch 13      loss: 0.011338725143269333    accuracy_train: 0.9896225527108434     loss_val: 0.02131624147295952     val_accuracy: 0.9792083452414976\n",
            "epoch 14      loss: 0.009699823778032898    accuracy_train: 0.9905509823384446     loss_val: 0.02719753421843052     val_accuracy: 0.9723492426407545\n",
            "epoch 15      loss: 0.013309028016470641    accuracy_train: 0.9865035425794085     loss_val: 0.0220426507294178     val_accuracy: 0.9779937124892827\n",
            "epoch 16      loss: 0.01172414533120681    accuracy_train: 0.9893872364457831     loss_val: 0.01669653132557869     val_accuracy: 0.9823521006001715\n",
            "epoch 17      loss: 0.007096680840589555    accuracy_train: 0.9936699924698795     loss_val: 0.01778719201683998     val_accuracy: 0.9822092026293227\n",
            "epoch 18      loss: 0.006807878672380943    accuracy_train: 0.9943053463855421     loss_val: 0.01892113871872425     val_accuracy: 0.981566161760503\n",
            "epoch 19      loss: 0.0063653898941554935    accuracy_train: 0.9946112575301205     loss_val: 0.018214503303170204     val_accuracy: 0.9831380394398399\n"
          ],
          "name": "stdout"
        }
      ]
    },
    {
      "cell_type": "code",
      "metadata": {
        "id": "48qKhylrx4NH",
        "colab": {
          "base_uri": "https://localhost:8080/",
          "height": 317
        },
        "outputId": "80f758b1-3217-4a2b-c05d-ff5d256df544"
      },
      "source": [
        "model.eval()\n",
        "index=1000\n",
        "ans=model(x_test[index].reshape((1,1,28,28)))\n",
        "print(np.array(ans.cpu().detach()))\n",
        "import matplotlib.pyplot as plt\n",
        "plt.imshow(x_test[index].reshape((28,28)).cpu(),cmap=\"gray\")\n",
        "print(ans.argmax().item())\n"
      ],
      "execution_count": null,
      "outputs": [
        {
          "output_type": "stream",
          "text": [
            "[[1.7422282e-14 7.7450189e-16 2.4723027e-14 3.6825679e-14 2.0387587e-08\n",
            "  3.2324545e-09 2.1832936e-22 1.2841212e-04 1.3488228e-08 9.9905163e-01]]\n",
            "9\n"
          ],
          "name": "stdout"
        },
        {
          "output_type": "display_data",
          "data": {
            "image/png": "[encoded data removed]",
            "text/plain": [
              "<Figure size 432x288 with 1 Axes>"
            ]
          },
          "metadata": {
            "tags": [],
            "needs_background": "light"
          }
        }
      ]
    },
    {
      "cell_type": "markdown",
      "metadata": {
        "id": "GC4VPx3TXpfQ"
      },
      "source": [
        "testing the model"
      ]
    },
    {
      "cell_type": "code",
      "metadata": {
        "id": "G067YRqDFQbL",
        "colab": {
          "base_uri": "https://localhost:8080/"
        },
        "outputId": "5c8d448f-89d7-410e-b03c-3b1c559788cc"
      },
      "source": [
        "model.eval()\n",
        "pred=model(x_test)\n",
        "loss_test=mse(pred,y_test).item()\n",
        "pred=pred.argmax(axis=-1)\n",
        "target=y_test.argmax(axis=-1)\n",
        "  \n",
        "\n",
        "correct=torch.sum(pred==target).item()\n",
        "accuracy_test=correct/len(y_test)\n",
        "print(\"Accuracy test:\",accuracy_test,\"    loss_test:\",loss_test)"
      ],
      "execution_count": null,
      "outputs": [
        {
          "output_type": "stream",
          "text": [
            "Accuracy test: 0.9862231422656863     loss_test: 0.015352461487054825\n"
          ],
          "name": "stdout"
        }
      ]
    }
  ]
}